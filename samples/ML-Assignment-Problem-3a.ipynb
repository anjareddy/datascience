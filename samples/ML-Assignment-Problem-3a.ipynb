{
 "cells": [
  {
   "cell_type": "code",
   "execution_count": 8,
   "metadata": {},
   "outputs": [
    {
     "name": "stdout",
     "output_type": "stream",
     "text": [
      "Matrix:\n",
      "3\t-4\t-1.2\t0\t2.3\t\n",
      "1st Norm: 10.5\n",
      "2nd Norm: 5.632938842203065\n",
      "3rd Norm: 4.716120891176797\n",
      "maximum Norm: 4.0\n"
     ]
    }
   ],
   "source": [
    "import numpy as np\n",
    "print(\"Matrix:\")\n",
    "matrix_m = [3, -4, -1.2, 0, 2.3]\n",
    "for r in matrix_m:\n",
    "    print(r,end = \"\\t\")\n",
    "\n",
    "print()\n",
    "\n",
    "print(\"1st Norm:\", np.linalg.norm(matrix_m, 1))\n",
    "print(\"2nd Norm:\", np.linalg.norm(matrix_m, 2))\n",
    "print(\"3rd Norm:\", np.linalg.norm(matrix_m, 3))\n",
    "print(\"maximum Norm:\", np.linalg.norm(4))\n",
    "\n"
   ]
  }
 ],
 "metadata": {
  "kernelspec": {
   "display_name": "Python 3",
   "language": "python",
   "name": "python3"
  },
  "language_info": {
   "codemirror_mode": {
    "name": "ipython",
    "version": 3
   },
   "file_extension": ".py",
   "mimetype": "text/x-python",
   "name": "python",
   "nbconvert_exporter": "python",
   "pygments_lexer": "ipython3",
   "version": "3.10.10"
  },
  "orig_nbformat": 4,
  "vscode": {
   "interpreter": {
    "hash": "0b1ff788f2fb0ed1ad4f1e07d9493ee4ab42ee401771dbf481c3808fa4dac88d"
   }
  }
 },
 "nbformat": 4,
 "nbformat_minor": 2
}
