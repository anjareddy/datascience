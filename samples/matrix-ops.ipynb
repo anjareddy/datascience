{
 "cells": [
  {
   "cell_type": "code",
   "execution_count": 2,
   "metadata": {},
   "outputs": [
    {
     "name": "stdout",
     "output_type": "stream",
     "text": [
      "A:\n",
      "1\t-2\t3\t5\t\n",
      "2\t2\t-1\t0\t\n",
      "3\t0\t1\t2\t\n",
      "1\t0\t2\t0\t\n",
      "\n",
      "2A:\n",
      "2\t-4\t6\t10\t\n",
      "4\t4\t-2\t0\t\n",
      "6\t0\t2\t4\t\n",
      "2\t0\t4\t0\t\n",
      "\n",
      "A Transpose:\n",
      "1\t2\t3\t1\t\n",
      "-2\t2\t0\t0\t\n",
      "3\t-1\t1\t2\t\n",
      "5\t0\t2\t0\t\n",
      "\n",
      "A Inverse:\n",
      "-0.23529411764705885\t-0.23529411764705885\t0.5882352941176471\t-0.0588235294117647\t\n",
      "0.29411764705882354\t0.7941176470588235\t-0.7352941176470588\t0.32352941176470584\t\n",
      "0.11764705882352941\t0.11764705882352941\t-0.2941176470588235\t0.5294117647058824\t\n",
      "0.29411764705882354\t0.29411764705882354\t-0.23529411764705885\t-0.17647058823529413\t\n",
      "\n",
      "Rank of Matrix A is : 4\n"
     ]
    }
   ],
   "source": [
    "import numpy as np\n",
    "matrix_A = [[1, -2, 3, 5], [2, 2, -1, 0], [3, 0, 1, 2], [1, 0, 2, 0]]\n",
    "print(\"A:\")\n",
    "for r in matrix_A:\n",
    "    for c in r:\n",
    "        print(c,end = \"\\t\")\n",
    "    print()\n",
    "\n",
    "print()\n",
    "print(\"2A:\")\n",
    "matrix_2A = [[2 * matrix_A[i][j] for j in range(len(matrix_A))] for i in range(len(matrix_A[0]))]\n",
    "for r in matrix_2A:\n",
    "    for c in r:\n",
    "        c = 2*c\n",
    "\n",
    "for r2 in matrix_2A:\n",
    "    for c2 in r2:\n",
    "        print(c2,end = \"\\t\")\n",
    "    print()\n",
    "print()\n",
    "\n",
    "print(\"A Transpose:\")\n",
    "transpose_A = [[matrix_A[j][i] for j in range(len(matrix_A))] for i in range(len(matrix_A[0]))]\n",
    "\n",
    "for r in transpose_A:\n",
    "    new_r = []\n",
    "    for c in r:\n",
    "        print(c,end = \"\\t\")\n",
    "    print()\n",
    "\n",
    "print()\n",
    "matrix_A_Inverse = np.linalg.inv(matrix_A) \n",
    "print(\"A Inverse:\")\n",
    "for r in matrix_A_Inverse:\n",
    "    new_r = []\n",
    "    for c in r:\n",
    "        print(c,end = \"\\t\")\n",
    "    print()\n",
    "\n",
    "print()\n",
    "print(\"Rank of Matrix A is :\", np.linalg.matrix_rank(matrix_A))\n"
   ]
  }
 ],
 "metadata": {
  "kernelspec": {
   "display_name": "base",
   "language": "python",
   "name": "python3"
  },
  "language_info": {
   "codemirror_mode": {
    "name": "ipython",
    "version": 3
   },
   "file_extension": ".py",
   "mimetype": "text/x-python",
   "name": "python",
   "nbconvert_exporter": "python",
   "pygments_lexer": "ipython3",
   "version": "3.9.13"
  },
  "orig_nbformat": 4,
  "vscode": {
   "interpreter": {
    "hash": "ea73cac4b45078a16ea2b3b06cd5d7bd81cff6bcb103e09ec3532b9aecd28a18"
   }
  }
 },
 "nbformat": 4,
 "nbformat_minor": 2
}
