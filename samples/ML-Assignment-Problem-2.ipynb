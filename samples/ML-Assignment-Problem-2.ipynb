{
 "cells": [
  {
   "cell_type": "code",
   "execution_count": 7,
   "metadata": {},
   "outputs": [
    {
     "name": "stdout",
     "output_type": "stream",
     "text": [
      "Matrix B:\n",
      "1\t-2\t\n",
      "2\t2\t\n",
      "\n",
      "Sqrt of B is:\n",
      "(1.2273526508238621+1.1102230246251565e-16j)\t(-0.7116140312587729+0j)\t\n",
      "(0.7116140312587729-5.551115123125783e-17j)\t(1.5831596664532488+0j)\t\n",
      "\n",
      "Inverse of Sqrt of B is:\n",
      "(0.6463222273608784-3.595448408072127e-17j)\t(0.29051521173149203-1.6161171801345276e-17j)\t\n",
      "(-0.290515211731492+3.882350439318724e-17j)\t(0.5010646214951323+1.7450767003635323e-17j)\t\n"
     ]
    }
   ],
   "source": [
    "import scipy as sp\n",
    "matrix_B = [[1, -2], [2, 2]]\n",
    "print(\"Matrix B:\")\n",
    "for r in matrix_B:\n",
    "    for c in r:\n",
    "        print(c,end = \"\\t\")\n",
    "    print()\n",
    "\n",
    "print()\n",
    "matrix_sqrt = sp.linalg.sqrtm(matrix_B)\n",
    "print(\"Sqrt of B is:\", )\n",
    "for r in matrix_sqrt:\n",
    "    for c in r:\n",
    "        print(c,end = \"\\t\")\n",
    "    print()\n",
    "\n",
    "print()\n",
    "matrix_sqrt_inv = sp.linalg.inv(matrix_sqrt)\n",
    "print(\"Inverse of Sqrt of B is:\", )\n",
    "for r in matrix_sqrt_inv:\n",
    "    for c in r:\n",
    "        print(c,end = \"\\t\")\n",
    "    print()\n"
   ]
  }
 ],
 "metadata": {
  "kernelspec": {
   "display_name": "base",
   "language": "python",
   "name": "python3"
  },
  "language_info": {
   "codemirror_mode": {
    "name": "ipython",
    "version": 3
   },
   "file_extension": ".py",
   "mimetype": "text/x-python",
   "name": "python",
   "nbconvert_exporter": "python",
   "pygments_lexer": "ipython3",
   "version": "3.9.13"
  },
  "orig_nbformat": 4,
  "vscode": {
   "interpreter": {
    "hash": "ea73cac4b45078a16ea2b3b06cd5d7bd81cff6bcb103e09ec3532b9aecd28a18"
   }
  }
 },
 "nbformat": 4,
 "nbformat_minor": 2
}
