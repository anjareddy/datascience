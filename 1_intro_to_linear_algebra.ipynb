{
  "nbformat": 4,
  "nbformat_minor": 0,
  "metadata": {
    "colab": {
      "provenance": [],
      "authorship_tag": "ABX9TyPeX9YZxThXwaR7+GeTxUnZ",
      "include_colab_link": true
    },
    "kernelspec": {
      "name": "python3",
      "display_name": "Python 3"
    },
    "language_info": {
      "name": "python"
    }
  },
  "cells": [
    {
      "cell_type": "markdown",
      "metadata": {
        "id": "view-in-github",
        "colab_type": "text"
      },
      "source": [
        "<a href=\"https://colab.research.google.com/github/anjareddy/datascience/blob/main/1_intro_to_linear_algebra.ipynb\" target=\"_parent\"><img src=\"https://colab.research.google.com/assets/colab-badge.svg\" alt=\"Open In Colab\"/></a>"
      ]
    },
    {
      "cell_type": "code",
      "execution_count": 119,
      "metadata": {
        "colab": {
          "base_uri": "https://localhost:8080/"
        },
        "id": "8n6xICLZB1K0",
        "outputId": "09535068-388a-4362-a64a-dc71da46f14f"
      },
      "outputs": [
        {
          "output_type": "execute_result",
          "data": {
            "text/plain": [
              "25"
            ]
          },
          "metadata": {},
          "execution_count": 119
        }
      ],
      "source": [
        "x = 25\n",
        "x"
      ]
    },
    {
      "cell_type": "markdown",
      "source": [
        "**SCALAR VECTORS**"
      ],
      "metadata": {
        "id": "CpImE0dJ__w_"
      }
    },
    {
      "cell_type": "code",
      "source": [
        "type(x)"
      ],
      "metadata": {
        "colab": {
          "base_uri": "https://localhost:8080/"
        },
        "id": "G4krz_j7CRz5",
        "outputId": "4e1f1304-defe-4aab-e059-c26749494254"
      },
      "execution_count": 120,
      "outputs": [
        {
          "output_type": "execute_result",
          "data": {
            "text/plain": [
              "int"
            ]
          },
          "metadata": {},
          "execution_count": 120
        }
      ]
    },
    {
      "cell_type": "code",
      "source": [
        "y =3"
      ],
      "metadata": {
        "id": "_mbGuB_nCYhz"
      },
      "execution_count": 121,
      "outputs": []
    },
    {
      "cell_type": "markdown",
      "source": [],
      "metadata": {
        "id": "UJ-JUnJ1_7Z0"
      }
    },
    {
      "cell_type": "markdown",
      "source": [],
      "metadata": {
        "id": "ePRh-yNg_-xg"
      }
    },
    {
      "cell_type": "code",
      "source": [
        "py_sum = x + y\n",
        "py_sum"
      ],
      "metadata": {
        "colab": {
          "base_uri": "https://localhost:8080/"
        },
        "id": "ckw48fMZCb3H",
        "outputId": "0da9d6b8-2a6a-44e9-d453-707be1983ada"
      },
      "execution_count": 122,
      "outputs": [
        {
          "output_type": "execute_result",
          "data": {
            "text/plain": [
              "28"
            ]
          },
          "metadata": {},
          "execution_count": 122
        }
      ]
    },
    {
      "cell_type": "code",
      "source": [
        "x_float = 25.0\n",
        "x_float"
      ],
      "metadata": {
        "colab": {
          "base_uri": "https://localhost:8080/"
        },
        "id": "Z_2iWTw1Co0L",
        "outputId": "c550104c-9223-43b4-cff0-346d75e59305"
      },
      "execution_count": 123,
      "outputs": [
        {
          "output_type": "execute_result",
          "data": {
            "text/plain": [
              "25.0"
            ]
          },
          "metadata": {},
          "execution_count": 123
        }
      ]
    },
    {
      "cell_type": "code",
      "source": [
        "import torch"
      ],
      "metadata": {
        "id": "MX5zUAZ7C6B_"
      },
      "execution_count": 124,
      "outputs": []
    },
    {
      "cell_type": "markdown",
      "source": [
        "Pytorch tutorials: https://pytorch.org/tutorials/"
      ],
      "metadata": {
        "id": "kw5H7c1tFl0x"
      }
    },
    {
      "cell_type": "code",
      "source": [
        "type(x_float)"
      ],
      "metadata": {
        "colab": {
          "base_uri": "https://localhost:8080/"
        },
        "id": "ckKe_jMJC4Of",
        "outputId": "428c79cc-abb6-49bf-bff3-1886e002c0da"
      },
      "execution_count": 125,
      "outputs": [
        {
          "output_type": "execute_result",
          "data": {
            "text/plain": [
              "float"
            ]
          },
          "metadata": {},
          "execution_count": 125
        }
      ]
    },
    {
      "cell_type": "code",
      "source": [
        "x_pt = torch.tensor(25, dtype=torch.float32)\n",
        "x_pt"
      ],
      "metadata": {
        "colab": {
          "base_uri": "https://localhost:8080/"
        },
        "id": "SlOosXnIEadu",
        "outputId": "8852b35a-497a-403c-fbd4-b5cb1c7520e1"
      },
      "execution_count": 126,
      "outputs": [
        {
          "output_type": "execute_result",
          "data": {
            "text/plain": [
              "tensor(25.)"
            ]
          },
          "metadata": {},
          "execution_count": 126
        }
      ]
    },
    {
      "cell_type": "code",
      "source": [
        "x_pt.size() #[], since scalars have no dimensions"
      ],
      "metadata": {
        "colab": {
          "base_uri": "https://localhost:8080/"
        },
        "id": "tes5RkDbEkjl",
        "outputId": "789555aa-e9ac-420d-8bc0-90c095fdc6bf"
      },
      "execution_count": 127,
      "outputs": [
        {
          "output_type": "execute_result",
          "data": {
            "text/plain": [
              "torch.Size([])"
            ]
          },
          "metadata": {},
          "execution_count": 127
        }
      ]
    },
    {
      "cell_type": "markdown",
      "source": [
        "Tensor flow: https://www.tensorflow.org/learn"
      ],
      "metadata": {
        "id": "QAKEoyZiGO78"
      }
    },
    {
      "cell_type": "code",
      "source": [
        "import tensorflow as tf"
      ],
      "metadata": {
        "id": "JSTc24NPGVGw"
      },
      "execution_count": 128,
      "outputs": []
    },
    {
      "cell_type": "code",
      "source": [
        "x_tf = tf.Variable(25, dtype=tf.int16)\n",
        "x_tf"
      ],
      "metadata": {
        "colab": {
          "base_uri": "https://localhost:8080/"
        },
        "id": "-DtMECfoHKvb",
        "outputId": "dec3fca6-6061-4ff0-fff3-9c437fa30431"
      },
      "execution_count": 129,
      "outputs": [
        {
          "output_type": "execute_result",
          "data": {
            "text/plain": [
              "<tf.Variable 'Variable:0' shape=() dtype=int16, numpy=25>"
            ]
          },
          "metadata": {},
          "execution_count": 129
        }
      ]
    },
    {
      "cell_type": "code",
      "source": [
        "x_tf.shape"
      ],
      "metadata": {
        "colab": {
          "base_uri": "https://localhost:8080/"
        },
        "id": "LSza-wsxHrrx",
        "outputId": "fec00cee-2280-4863-b1c4-7c4fc7c457b1"
      },
      "execution_count": 130,
      "outputs": [
        {
          "output_type": "execute_result",
          "data": {
            "text/plain": [
              "TensorShape([])"
            ]
          },
          "metadata": {},
          "execution_count": 130
        }
      ]
    },
    {
      "cell_type": "code",
      "source": [
        "y_tf = tf.Variable(3, dtype=tf.int16)\n",
        "y_tf"
      ],
      "metadata": {
        "colab": {
          "base_uri": "https://localhost:8080/"
        },
        "id": "rz0UGTtnHvXR",
        "outputId": "09a8b60c-bec6-4b95-bb61-e3ecd71669d1"
      },
      "execution_count": 131,
      "outputs": [
        {
          "output_type": "execute_result",
          "data": {
            "text/plain": [
              "<tf.Variable 'Variable:0' shape=() dtype=int16, numpy=3>"
            ]
          },
          "metadata": {},
          "execution_count": 131
        }
      ]
    },
    {
      "cell_type": "code",
      "source": [
        "x_tf + y_tf"
      ],
      "metadata": {
        "colab": {
          "base_uri": "https://localhost:8080/"
        },
        "id": "9HDHroKRH1RV",
        "outputId": "a66513e5-61f4-45f1-9871-a3c7f75d9fd2"
      },
      "execution_count": 132,
      "outputs": [
        {
          "output_type": "execute_result",
          "data": {
            "text/plain": [
              "<tf.Tensor: shape=(), dtype=int16, numpy=28>"
            ]
          },
          "metadata": {},
          "execution_count": 132
        }
      ]
    },
    {
      "cell_type": "code",
      "source": [
        "sum_tf = tf.add(x_tf, y_tf)\n",
        "sum_tf"
      ],
      "metadata": {
        "colab": {
          "base_uri": "https://localhost:8080/"
        },
        "id": "JFJ756XAIZQq",
        "outputId": "739b4a01-da00-4fb0-d543-2f4cb4a47e64"
      },
      "execution_count": 133,
      "outputs": [
        {
          "output_type": "execute_result",
          "data": {
            "text/plain": [
              "<tf.Tensor: shape=(), dtype=int16, numpy=28>"
            ]
          },
          "metadata": {},
          "execution_count": 133
        }
      ]
    },
    {
      "cell_type": "code",
      "source": [
        "sum_tf.numpy() # note that NumPy operations automatically convert tensors to NumPy arrays, and vice versa."
      ],
      "metadata": {
        "colab": {
          "base_uri": "https://localhost:8080/"
        },
        "id": "NiBk5SmPxSh7",
        "outputId": "fb886055-aa73-47bf-bcdc-e255cf169183"
      },
      "execution_count": 134,
      "outputs": [
        {
          "output_type": "execute_result",
          "data": {
            "text/plain": [
              "28"
            ]
          },
          "metadata": {},
          "execution_count": 134
        }
      ]
    },
    {
      "cell_type": "code",
      "source": [
        "type(sum_tf.numpy())"
      ],
      "metadata": {
        "colab": {
          "base_uri": "https://localhost:8080/"
        },
        "id": "r9UF1ePPyQHv",
        "outputId": "7c77234f-2a41-42aa-bf58-f6dff3d87573"
      },
      "execution_count": 135,
      "outputs": [
        {
          "output_type": "execute_result",
          "data": {
            "text/plain": [
              "numpy.int16"
            ]
          },
          "metadata": {},
          "execution_count": 135
        }
      ]
    },
    {
      "cell_type": "code",
      "source": [
        "tf_float = tf.Variable(25, dtype=tf.float16)\n",
        "tf_float"
      ],
      "metadata": {
        "colab": {
          "base_uri": "https://localhost:8080/"
        },
        "id": "uCfJrE2R3mKn",
        "outputId": "03a4a07c-542b-462f-8798-3c57db55bf35"
      },
      "execution_count": 136,
      "outputs": [
        {
          "output_type": "execute_result",
          "data": {
            "text/plain": [
              "<tf.Variable 'Variable:0' shape=() dtype=float16, numpy=25.0>"
            ]
          },
          "metadata": {},
          "execution_count": 136
        }
      ]
    },
    {
      "cell_type": "markdown",
      "source": [
        "**ARRAYS** (2-D Vectors)"
      ],
      "metadata": {
        "id": "pfphCrOt_qv8"
      }
    },
    {
      "cell_type": "code",
      "source": [
        "import numpy as np"
      ],
      "metadata": {
        "id": "aN5_Rdg84WpW"
      },
      "execution_count": 137,
      "outputs": []
    },
    {
      "cell_type": "code",
      "source": [
        "x = np.array([1, 2, 3, 5, 9])\n",
        "x\n",
        "f = np.array([1, 2, 3, 5.], dtype=np.float16)\n",
        "f"
      ],
      "metadata": {
        "colab": {
          "base_uri": "https://localhost:8080/"
        },
        "id": "KwNtaltx30LB",
        "outputId": "d0d0be29-ad24-467f-91a2-dab9d5d72056"
      },
      "execution_count": 138,
      "outputs": [
        {
          "output_type": "execute_result",
          "data": {
            "text/plain": [
              "array([1., 2., 3., 5.], dtype=float16)"
            ]
          },
          "metadata": {},
          "execution_count": 138
        }
      ]
    },
    {
      "cell_type": "code",
      "source": [
        "len(x)"
      ],
      "metadata": {
        "colab": {
          "base_uri": "https://localhost:8080/"
        },
        "id": "IrSnloHM4Ncy",
        "outputId": "a4131fe3-c44d-413e-a83a-88c6b6d0ee13"
      },
      "execution_count": 139,
      "outputs": [
        {
          "output_type": "execute_result",
          "data": {
            "text/plain": [
              "5"
            ]
          },
          "metadata": {},
          "execution_count": 139
        }
      ]
    },
    {
      "cell_type": "code",
      "source": [
        "type(x)"
      ],
      "metadata": {
        "colab": {
          "base_uri": "https://localhost:8080/"
        },
        "id": "L_VfnZLr4Q0h",
        "outputId": "28c8f2cb-43ac-4e8c-9ccb-d1e227725753"
      },
      "execution_count": 140,
      "outputs": [
        {
          "output_type": "execute_result",
          "data": {
            "text/plain": [
              "numpy.ndarray"
            ]
          },
          "metadata": {},
          "execution_count": 140
        }
      ]
    },
    {
      "cell_type": "code",
      "source": [
        "x[0]"
      ],
      "metadata": {
        "colab": {
          "base_uri": "https://localhost:8080/"
        },
        "id": "jdeNOwrT4V1M",
        "outputId": "15d4bc50-5dfc-4efa-f873-087b8f00c40f"
      },
      "execution_count": 141,
      "outputs": [
        {
          "output_type": "execute_result",
          "data": {
            "text/plain": [
              "1"
            ]
          },
          "metadata": {},
          "execution_count": 141
        }
      ]
    },
    {
      "cell_type": "code",
      "source": [
        "x.T"
      ],
      "metadata": {
        "colab": {
          "base_uri": "https://localhost:8080/"
        },
        "id": "yDKM3GMh4XYd",
        "outputId": "27c6d8d6-abf4-4b8b-d2d9-406806310c57"
      },
      "execution_count": 142,
      "outputs": [
        {
          "output_type": "execute_result",
          "data": {
            "text/plain": [
              "array([1, 2, 3, 5, 9])"
            ]
          },
          "metadata": {},
          "execution_count": 142
        }
      ]
    },
    {
      "cell_type": "code",
      "source": [
        "y = np.array([[1, 2, 3, 5, 9]])"
      ],
      "metadata": {
        "id": "-R8R3XvC4pU-"
      },
      "execution_count": 143,
      "outputs": []
    },
    {
      "cell_type": "code",
      "source": [
        "y.T"
      ],
      "metadata": {
        "colab": {
          "base_uri": "https://localhost:8080/"
        },
        "id": "24XJdGki4uT0",
        "outputId": "fcc3c475-5c6d-4261-8c3d-0658391dc95b"
      },
      "execution_count": 144,
      "outputs": [
        {
          "output_type": "execute_result",
          "data": {
            "text/plain": [
              "array([[1],\n",
              "       [2],\n",
              "       [3],\n",
              "       [5],\n",
              "       [9]])"
            ]
          },
          "metadata": {},
          "execution_count": 144
        }
      ]
    },
    {
      "cell_type": "code",
      "source": [
        "y.shape"
      ],
      "metadata": {
        "colab": {
          "base_uri": "https://localhost:8080/"
        },
        "id": "RlwqHS5R4xcs",
        "outputId": "5dae67b0-4da8-4382-8e8c-e4dd35f9cdaa"
      },
      "execution_count": 145,
      "outputs": [
        {
          "output_type": "execute_result",
          "data": {
            "text/plain": [
              "(1, 5)"
            ]
          },
          "metadata": {},
          "execution_count": 145
        }
      ]
    },
    {
      "cell_type": "code",
      "source": [
        "y.T.shape"
      ],
      "metadata": {
        "colab": {
          "base_uri": "https://localhost:8080/"
        },
        "id": "cM7fpArJ44MJ",
        "outputId": "ddd2b417-2c50-4a3d-83f3-904a06fd363c"
      },
      "execution_count": 146,
      "outputs": [
        {
          "output_type": "execute_result",
          "data": {
            "text/plain": [
              "(5, 1)"
            ]
          },
          "metadata": {},
          "execution_count": 146
        }
      ]
    },
    {
      "cell_type": "code",
      "source": [
        "z = np.zeros(9)\n",
        "z"
      ],
      "metadata": {
        "colab": {
          "base_uri": "https://localhost:8080/"
        },
        "id": "XoymuAt146gk",
        "outputId": "cd5a0920-30f9-43bd-f006-2fa46c901d48"
      },
      "execution_count": 147,
      "outputs": [
        {
          "output_type": "execute_result",
          "data": {
            "text/plain": [
              "array([0., 0., 0., 0., 0., 0., 0., 0., 0.])"
            ]
          },
          "metadata": {},
          "execution_count": 147
        }
      ]
    },
    {
      "cell_type": "code",
      "source": [
        "pt_array = torch.tensor([1, 2, 3, 4, 5, 6, 7])\n",
        "pt_array"
      ],
      "metadata": {
        "colab": {
          "base_uri": "https://localhost:8080/"
        },
        "id": "QH9zvByM5IG0",
        "outputId": "6662191a-c059-4900-cfc3-96cbebe9c05c"
      },
      "execution_count": 148,
      "outputs": [
        {
          "output_type": "execute_result",
          "data": {
            "text/plain": [
              "tensor([1, 2, 3, 4, 5, 6, 7])"
            ]
          },
          "metadata": {},
          "execution_count": 148
        }
      ]
    },
    {
      "cell_type": "code",
      "source": [
        "tf_array = tf.Variable([1, 2, 3, 4, 5, 6, 7, 8])\n",
        "tf_array"
      ],
      "metadata": {
        "colab": {
          "base_uri": "https://localhost:8080/"
        },
        "id": "AQdnbL315UCw",
        "outputId": "98e2b662-aa95-4215-9e7d-b613a0132a9a"
      },
      "execution_count": 149,
      "outputs": [
        {
          "output_type": "execute_result",
          "data": {
            "text/plain": [
              "<tf.Variable 'Variable:0' shape=(8,) dtype=int32, numpy=array([1, 2, 3, 4, 5, 6, 7, 8], dtype=int32)>"
            ]
          },
          "metadata": {},
          "execution_count": 149
        }
      ]
    },
    {
      "cell_type": "code",
      "source": [
        "x_tf"
      ],
      "metadata": {
        "colab": {
          "base_uri": "https://localhost:8080/"
        },
        "id": "h4HvSvw45mi_",
        "outputId": "a8ffcb34-f78c-4c4c-dda4-1535e7a16dba"
      },
      "execution_count": 150,
      "outputs": [
        {
          "output_type": "execute_result",
          "data": {
            "text/plain": [
              "<tf.Variable 'Variable:0' shape=() dtype=int16, numpy=25>"
            ]
          },
          "metadata": {},
          "execution_count": 150
        }
      ]
    },
    {
      "cell_type": "markdown",
      "source": [
        "**NORMS**\n"
      ],
      "metadata": {
        "id": "t9Zp1VpH_btr"
      }
    },
    {
      "cell_type": "code",
      "source": [
        "x"
      ],
      "metadata": {
        "colab": {
          "base_uri": "https://localhost:8080/"
        },
        "id": "8cLfsdIF94Xa",
        "outputId": "8b47fb41-c9cd-4df2-933e-4a5b9523ad60"
      },
      "execution_count": 151,
      "outputs": [
        {
          "output_type": "execute_result",
          "data": {
            "text/plain": [
              "array([1, 2, 3, 5, 9])"
            ]
          },
          "metadata": {},
          "execution_count": 151
        }
      ]
    },
    {
      "cell_type": "markdown",
      "source": [],
      "metadata": {
        "id": "QL-xkrf5_Zfi"
      }
    },
    {
      "cell_type": "code",
      "source": [
        "(1**2 + 2**2 + 3**2 + 5**2 + 9**2) **(1/2) # L2 norm"
      ],
      "metadata": {
        "colab": {
          "base_uri": "https://localhost:8080/"
        },
        "id": "osisSn-v97Fc",
        "outputId": "7c84e44a-044a-4041-bc4f-5a33a12dadcf"
      },
      "execution_count": 152,
      "outputs": [
        {
          "output_type": "execute_result",
          "data": {
            "text/plain": [
              "10.954451150103322"
            ]
          },
          "metadata": {},
          "execution_count": 152
        }
      ]
    },
    {
      "cell_type": "code",
      "source": [
        "np.linalg.norm(x)"
      ],
      "metadata": {
        "colab": {
          "base_uri": "https://localhost:8080/"
        },
        "id": "0RK4YSdS-MUA",
        "outputId": "6f107eaf-cd72-45f5-d7ea-bad5f97ee3c1"
      },
      "execution_count": 153,
      "outputs": [
        {
          "output_type": "execute_result",
          "data": {
            "text/plain": [
              "10.954451150103322"
            ]
          },
          "metadata": {},
          "execution_count": 153
        }
      ]
    },
    {
      "cell_type": "code",
      "source": [
        "np.abs(x[0]) + np.abs(x[1]) + np.abs(x[2]) + np.abs(x[3]) + np.abs(x[4])"
      ],
      "metadata": {
        "colab": {
          "base_uri": "https://localhost:8080/"
        },
        "id": "sEHv_AV8-Uu6",
        "outputId": "d012548f-f60e-4334-f6d7-b892a08457ae"
      },
      "execution_count": 154,
      "outputs": [
        {
          "output_type": "execute_result",
          "data": {
            "text/plain": [
              "20"
            ]
          },
          "metadata": {},
          "execution_count": 154
        }
      ]
    },
    {
      "cell_type": "code",
      "source": [
        "(1**2 + 2**2 + 3**2 + 5**2 + 9**2) # squared L2 Norm"
      ],
      "metadata": {
        "colab": {
          "base_uri": "https://localhost:8080/"
        },
        "id": "BR2TSraNBeJz",
        "outputId": "d9c7e2fc-46c8-4420-c141-bf8a35956d9a"
      },
      "execution_count": 155,
      "outputs": [
        {
          "output_type": "execute_result",
          "data": {
            "text/plain": [
              "120"
            ]
          },
          "metadata": {},
          "execution_count": 155
        }
      ]
    },
    {
      "cell_type": "code",
      "source": [
        "np.dot(x, x)"
      ],
      "metadata": {
        "colab": {
          "base_uri": "https://localhost:8080/"
        },
        "id": "SFUGMrRrBq1H",
        "outputId": "794c3475-d596-4596-b8e4-880f4b41270f"
      },
      "execution_count": 156,
      "outputs": [
        {
          "output_type": "execute_result",
          "data": {
            "text/plain": [
              "120"
            ]
          },
          "metadata": {},
          "execution_count": 156
        }
      ]
    },
    {
      "cell_type": "markdown",
      "source": [
        "**Orthognal Vectors XT multiply Y = 0**"
      ],
      "metadata": {
        "id": "k2vw2OgvEqxw"
      }
    },
    {
      "cell_type": "code",
      "source": [
        "i = np.array([1, 0]) #x\n",
        "i"
      ],
      "metadata": {
        "colab": {
          "base_uri": "https://localhost:8080/"
        },
        "id": "n8j1YYnkFAwK",
        "outputId": "f3efe14a-059e-49ad-bcaf-027310be3081"
      },
      "execution_count": 157,
      "outputs": [
        {
          "output_type": "execute_result",
          "data": {
            "text/plain": [
              "array([1, 0])"
            ]
          },
          "metadata": {},
          "execution_count": 157
        }
      ]
    },
    {
      "cell_type": "code",
      "source": [
        "j = np.array([0, 1]) #y\n",
        "j"
      ],
      "metadata": {
        "colab": {
          "base_uri": "https://localhost:8080/"
        },
        "id": "breW_6GzFPga",
        "outputId": "8e3f037b-3a1d-4901-eb30-72f1648d7569"
      },
      "execution_count": 158,
      "outputs": [
        {
          "output_type": "execute_result",
          "data": {
            "text/plain": [
              "array([0, 1])"
            ]
          },
          "metadata": {},
          "execution_count": 158
        }
      ]
    },
    {
      "cell_type": "code",
      "source": [
        "np.dot(i, j)"
      ],
      "metadata": {
        "colab": {
          "base_uri": "https://localhost:8080/"
        },
        "id": "zzfJkxU4FX9E",
        "outputId": "b8aa2aa8-0e76-48cb-f9b4-5284ee42278c"
      },
      "execution_count": 159,
      "outputs": [
        {
          "output_type": "execute_result",
          "data": {
            "text/plain": [
              "0"
            ]
          },
          "metadata": {},
          "execution_count": 159
        }
      ]
    },
    {
      "cell_type": "markdown",
      "source": [
        "2-D VECTORS (MATRICES)"
      ],
      "metadata": {
        "id": "tOEjy4rmHrPn"
      }
    },
    {
      "cell_type": "code",
      "source": [
        "X = np.array([[11, 12, 13], [21, 22, 23]])\n",
        "X"
      ],
      "metadata": {
        "colab": {
          "base_uri": "https://localhost:8080/"
        },
        "id": "xlcSIc08E3Xa",
        "outputId": "b2557b0d-70ea-4c5d-8d24-7a3c0434d0b3"
      },
      "execution_count": 160,
      "outputs": [
        {
          "output_type": "execute_result",
          "data": {
            "text/plain": [
              "array([[11, 12, 13],\n",
              "       [21, 22, 23]])"
            ]
          },
          "metadata": {},
          "execution_count": 160
        }
      ]
    },
    {
      "cell_type": "code",
      "source": [
        "X.shape # 2rows, 3 columns"
      ],
      "metadata": {
        "colab": {
          "base_uri": "https://localhost:8080/"
        },
        "id": "ug9aJRXCGoU4",
        "outputId": "c92151b5-cd92-4e84-8e89-4ca9b76cb148"
      },
      "execution_count": 161,
      "outputs": [
        {
          "output_type": "execute_result",
          "data": {
            "text/plain": [
              "(2, 3)"
            ]
          },
          "metadata": {},
          "execution_count": 161
        }
      ]
    },
    {
      "cell_type": "code",
      "source": [
        "X.size"
      ],
      "metadata": {
        "colab": {
          "base_uri": "https://localhost:8080/"
        },
        "id": "4YT7xcLJGtDs",
        "outputId": "a86ba2d1-e33b-4efe-f513-b962fb28180e"
      },
      "execution_count": 162,
      "outputs": [
        {
          "output_type": "execute_result",
          "data": {
            "text/plain": [
              "6"
            ]
          },
          "metadata": {},
          "execution_count": 162
        }
      ]
    },
    {
      "cell_type": "code",
      "source": [
        "X[:1]"
      ],
      "metadata": {
        "colab": {
          "base_uri": "https://localhost:8080/"
        },
        "id": "ZD3XeSdgGzfW",
        "outputId": "6fb14837-f1d7-43ec-8fff-5d680cfee200"
      },
      "execution_count": 163,
      "outputs": [
        {
          "output_type": "execute_result",
          "data": {
            "text/plain": [
              "array([[11, 12, 13]])"
            ]
          },
          "metadata": {},
          "execution_count": 163
        }
      ]
    },
    {
      "cell_type": "code",
      "source": [
        "X[:,0]"
      ],
      "metadata": {
        "colab": {
          "base_uri": "https://localhost:8080/"
        },
        "id": "BNIPDQzPEx-x",
        "outputId": "ba51561d-c03d-42df-99a8-2a9e2b0cf85d"
      },
      "execution_count": 164,
      "outputs": [
        {
          "output_type": "execute_result",
          "data": {
            "text/plain": [
              "array([11, 21])"
            ]
          },
          "metadata": {},
          "execution_count": 164
        }
      ]
    },
    {
      "cell_type": "code",
      "source": [
        "X[0, :] # VECTOR TENSOR"
      ],
      "metadata": {
        "colab": {
          "base_uri": "https://localhost:8080/"
        },
        "id": "g4dBAJVeHLnr",
        "outputId": "5f4b9ffe-5e6d-4a7b-8f08-a41fb6a6a7d7"
      },
      "execution_count": 165,
      "outputs": [
        {
          "output_type": "execute_result",
          "data": {
            "text/plain": [
              "array([11, 12, 13])"
            ]
          },
          "metadata": {},
          "execution_count": 165
        }
      ]
    },
    {
      "cell_type": "code",
      "source": [
        "X[1, :]"
      ],
      "metadata": {
        "colab": {
          "base_uri": "https://localhost:8080/"
        },
        "id": "5lNKd_FQHS_y",
        "outputId": "bc2a9ad0-fb48-44c7-de8a-3c924788c281"
      },
      "execution_count": 166,
      "outputs": [
        {
          "output_type": "execute_result",
          "data": {
            "text/plain": [
              "array([21, 22, 23])"
            ]
          },
          "metadata": {},
          "execution_count": 166
        }
      ]
    },
    {
      "cell_type": "code",
      "source": [
        "X[0:2, 0:2]"
      ],
      "metadata": {
        "colab": {
          "base_uri": "https://localhost:8080/"
        },
        "id": "mqXrClVEHU_o",
        "outputId": "8c1cc9b5-b898-4202-d342-ac50c9cac293"
      },
      "execution_count": 167,
      "outputs": [
        {
          "output_type": "execute_result",
          "data": {
            "text/plain": [
              "array([[11, 12],\n",
              "       [21, 22]])"
            ]
          },
          "metadata": {},
          "execution_count": 167
        }
      ]
    },
    {
      "cell_type": "code",
      "source": [
        "X_pt = torch.tensor([[11, 12, 13], [21, 22, 23]])\n",
        "X_pt"
      ],
      "metadata": {
        "colab": {
          "base_uri": "https://localhost:8080/"
        },
        "id": "julvsPc5HoLb",
        "outputId": "a9cca9dd-1b4d-454b-9b06-b3bc2c853d3a"
      },
      "execution_count": 168,
      "outputs": [
        {
          "output_type": "execute_result",
          "data": {
            "text/plain": [
              "tensor([[11, 12, 13],\n",
              "        [21, 22, 23]])"
            ]
          },
          "metadata": {},
          "execution_count": 168
        }
      ]
    },
    {
      "cell_type": "code",
      "source": [
        "X_pt.shape"
      ],
      "metadata": {
        "colab": {
          "base_uri": "https://localhost:8080/"
        },
        "id": "3-bw4HDHH6Er",
        "outputId": "ab749f17-2ea3-430f-ca24-84c2249fb64d"
      },
      "execution_count": 169,
      "outputs": [
        {
          "output_type": "execute_result",
          "data": {
            "text/plain": [
              "torch.Size([2, 3])"
            ]
          },
          "metadata": {},
          "execution_count": 169
        }
      ]
    },
    {
      "cell_type": "code",
      "source": [
        "X_pt.size()"
      ],
      "metadata": {
        "colab": {
          "base_uri": "https://localhost:8080/"
        },
        "id": "pwhmNz-WH8HD",
        "outputId": "f7610f9e-80bb-42c8-d5ca-3ccacf2ce992"
      },
      "execution_count": 170,
      "outputs": [
        {
          "output_type": "execute_result",
          "data": {
            "text/plain": [
              "torch.Size([2, 3])"
            ]
          },
          "metadata": {},
          "execution_count": 170
        }
      ]
    },
    {
      "cell_type": "code",
      "source": [
        "X_tf = tf.Variable([[11, 12, 13], [21, 22, 23]])\n",
        "X_tf"
      ],
      "metadata": {
        "colab": {
          "base_uri": "https://localhost:8080/"
        },
        "id": "tFPhDZPSIAHO",
        "outputId": "8b691e4a-7f91-4b5e-db90-c52025464374"
      },
      "execution_count": 171,
      "outputs": [
        {
          "output_type": "execute_result",
          "data": {
            "text/plain": [
              "<tf.Variable 'Variable:0' shape=(2, 3) dtype=int32, numpy=\n",
              "array([[11, 12, 13],\n",
              "       [21, 22, 23]], dtype=int32)>"
            ]
          },
          "metadata": {},
          "execution_count": 171
        }
      ]
    },
    {
      "cell_type": "code",
      "source": [
        "#X_tf.shape\n",
        "tf.shape(X_tf)"
      ],
      "metadata": {
        "colab": {
          "base_uri": "https://localhost:8080/"
        },
        "id": "i6oITTa3IHK1",
        "outputId": "4170af09-b6a5-497e-caa1-cb5035d46646"
      },
      "execution_count": 172,
      "outputs": [
        {
          "output_type": "execute_result",
          "data": {
            "text/plain": [
              "<tf.Tensor: shape=(2,), dtype=int32, numpy=array([2, 3], dtype=int32)>"
            ]
          },
          "metadata": {},
          "execution_count": 172
        }
      ]
    },
    {
      "cell_type": "code",
      "source": [
        "tf.rank(X_tf)"
      ],
      "metadata": {
        "colab": {
          "base_uri": "https://localhost:8080/"
        },
        "id": "Bx0yUhzOIJPh",
        "outputId": "51e11663-310d-4aa3-8d0c-8543de8b0930"
      },
      "execution_count": 173,
      "outputs": [
        {
          "output_type": "execute_result",
          "data": {
            "text/plain": [
              "<tf.Tensor: shape=(), dtype=int32, numpy=2>"
            ]
          },
          "metadata": {},
          "execution_count": 173
        }
      ]
    },
    {
      "cell_type": "code",
      "source": [
        "tf.size(X_tf)"
      ],
      "metadata": {
        "colab": {
          "base_uri": "https://localhost:8080/"
        },
        "id": "a4SZ8dR6Ii_v",
        "outputId": "b93ada37-fd53-4600-c3fa-dfb8e2cd7e24"
      },
      "execution_count": 174,
      "outputs": [
        {
          "output_type": "execute_result",
          "data": {
            "text/plain": [
              "<tf.Tensor: shape=(), dtype=int32, numpy=6>"
            ]
          },
          "metadata": {},
          "execution_count": 174
        }
      ]
    },
    {
      "cell_type": "markdown",
      "source": [
        "**High Dimensional Vectors**"
      ],
      "metadata": {
        "id": "wVilAghTIumg"
      }
    },
    {
      "cell_type": "code",
      "source": [
        " images_pt = torch.zeros([32, 28, 28, 3])\n",
        " images_pt"
      ],
      "metadata": {
        "colab": {
          "base_uri": "https://localhost:8080/"
        },
        "id": "YLYNDszPIy3w",
        "outputId": "737eedd4-7928-4bc1-e929-d59c70f1beee"
      },
      "execution_count": 175,
      "outputs": [
        {
          "output_type": "execute_result",
          "data": {
            "text/plain": [
              "tensor([[[[0., 0., 0.],\n",
              "          [0., 0., 0.],\n",
              "          [0., 0., 0.],\n",
              "          ...,\n",
              "          [0., 0., 0.],\n",
              "          [0., 0., 0.],\n",
              "          [0., 0., 0.]],\n",
              "\n",
              "         [[0., 0., 0.],\n",
              "          [0., 0., 0.],\n",
              "          [0., 0., 0.],\n",
              "          ...,\n",
              "          [0., 0., 0.],\n",
              "          [0., 0., 0.],\n",
              "          [0., 0., 0.]],\n",
              "\n",
              "         [[0., 0., 0.],\n",
              "          [0., 0., 0.],\n",
              "          [0., 0., 0.],\n",
              "          ...,\n",
              "          [0., 0., 0.],\n",
              "          [0., 0., 0.],\n",
              "          [0., 0., 0.]],\n",
              "\n",
              "         ...,\n",
              "\n",
              "         [[0., 0., 0.],\n",
              "          [0., 0., 0.],\n",
              "          [0., 0., 0.],\n",
              "          ...,\n",
              "          [0., 0., 0.],\n",
              "          [0., 0., 0.],\n",
              "          [0., 0., 0.]],\n",
              "\n",
              "         [[0., 0., 0.],\n",
              "          [0., 0., 0.],\n",
              "          [0., 0., 0.],\n",
              "          ...,\n",
              "          [0., 0., 0.],\n",
              "          [0., 0., 0.],\n",
              "          [0., 0., 0.]],\n",
              "\n",
              "         [[0., 0., 0.],\n",
              "          [0., 0., 0.],\n",
              "          [0., 0., 0.],\n",
              "          ...,\n",
              "          [0., 0., 0.],\n",
              "          [0., 0., 0.],\n",
              "          [0., 0., 0.]]],\n",
              "\n",
              "\n",
              "        [[[0., 0., 0.],\n",
              "          [0., 0., 0.],\n",
              "          [0., 0., 0.],\n",
              "          ...,\n",
              "          [0., 0., 0.],\n",
              "          [0., 0., 0.],\n",
              "          [0., 0., 0.]],\n",
              "\n",
              "         [[0., 0., 0.],\n",
              "          [0., 0., 0.],\n",
              "          [0., 0., 0.],\n",
              "          ...,\n",
              "          [0., 0., 0.],\n",
              "          [0., 0., 0.],\n",
              "          [0., 0., 0.]],\n",
              "\n",
              "         [[0., 0., 0.],\n",
              "          [0., 0., 0.],\n",
              "          [0., 0., 0.],\n",
              "          ...,\n",
              "          [0., 0., 0.],\n",
              "          [0., 0., 0.],\n",
              "          [0., 0., 0.]],\n",
              "\n",
              "         ...,\n",
              "\n",
              "         [[0., 0., 0.],\n",
              "          [0., 0., 0.],\n",
              "          [0., 0., 0.],\n",
              "          ...,\n",
              "          [0., 0., 0.],\n",
              "          [0., 0., 0.],\n",
              "          [0., 0., 0.]],\n",
              "\n",
              "         [[0., 0., 0.],\n",
              "          [0., 0., 0.],\n",
              "          [0., 0., 0.],\n",
              "          ...,\n",
              "          [0., 0., 0.],\n",
              "          [0., 0., 0.],\n",
              "          [0., 0., 0.]],\n",
              "\n",
              "         [[0., 0., 0.],\n",
              "          [0., 0., 0.],\n",
              "          [0., 0., 0.],\n",
              "          ...,\n",
              "          [0., 0., 0.],\n",
              "          [0., 0., 0.],\n",
              "          [0., 0., 0.]]],\n",
              "\n",
              "\n",
              "        [[[0., 0., 0.],\n",
              "          [0., 0., 0.],\n",
              "          [0., 0., 0.],\n",
              "          ...,\n",
              "          [0., 0., 0.],\n",
              "          [0., 0., 0.],\n",
              "          [0., 0., 0.]],\n",
              "\n",
              "         [[0., 0., 0.],\n",
              "          [0., 0., 0.],\n",
              "          [0., 0., 0.],\n",
              "          ...,\n",
              "          [0., 0., 0.],\n",
              "          [0., 0., 0.],\n",
              "          [0., 0., 0.]],\n",
              "\n",
              "         [[0., 0., 0.],\n",
              "          [0., 0., 0.],\n",
              "          [0., 0., 0.],\n",
              "          ...,\n",
              "          [0., 0., 0.],\n",
              "          [0., 0., 0.],\n",
              "          [0., 0., 0.]],\n",
              "\n",
              "         ...,\n",
              "\n",
              "         [[0., 0., 0.],\n",
              "          [0., 0., 0.],\n",
              "          [0., 0., 0.],\n",
              "          ...,\n",
              "          [0., 0., 0.],\n",
              "          [0., 0., 0.],\n",
              "          [0., 0., 0.]],\n",
              "\n",
              "         [[0., 0., 0.],\n",
              "          [0., 0., 0.],\n",
              "          [0., 0., 0.],\n",
              "          ...,\n",
              "          [0., 0., 0.],\n",
              "          [0., 0., 0.],\n",
              "          [0., 0., 0.]],\n",
              "\n",
              "         [[0., 0., 0.],\n",
              "          [0., 0., 0.],\n",
              "          [0., 0., 0.],\n",
              "          ...,\n",
              "          [0., 0., 0.],\n",
              "          [0., 0., 0.],\n",
              "          [0., 0., 0.]]],\n",
              "\n",
              "\n",
              "        ...,\n",
              "\n",
              "\n",
              "        [[[0., 0., 0.],\n",
              "          [0., 0., 0.],\n",
              "          [0., 0., 0.],\n",
              "          ...,\n",
              "          [0., 0., 0.],\n",
              "          [0., 0., 0.],\n",
              "          [0., 0., 0.]],\n",
              "\n",
              "         [[0., 0., 0.],\n",
              "          [0., 0., 0.],\n",
              "          [0., 0., 0.],\n",
              "          ...,\n",
              "          [0., 0., 0.],\n",
              "          [0., 0., 0.],\n",
              "          [0., 0., 0.]],\n",
              "\n",
              "         [[0., 0., 0.],\n",
              "          [0., 0., 0.],\n",
              "          [0., 0., 0.],\n",
              "          ...,\n",
              "          [0., 0., 0.],\n",
              "          [0., 0., 0.],\n",
              "          [0., 0., 0.]],\n",
              "\n",
              "         ...,\n",
              "\n",
              "         [[0., 0., 0.],\n",
              "          [0., 0., 0.],\n",
              "          [0., 0., 0.],\n",
              "          ...,\n",
              "          [0., 0., 0.],\n",
              "          [0., 0., 0.],\n",
              "          [0., 0., 0.]],\n",
              "\n",
              "         [[0., 0., 0.],\n",
              "          [0., 0., 0.],\n",
              "          [0., 0., 0.],\n",
              "          ...,\n",
              "          [0., 0., 0.],\n",
              "          [0., 0., 0.],\n",
              "          [0., 0., 0.]],\n",
              "\n",
              "         [[0., 0., 0.],\n",
              "          [0., 0., 0.],\n",
              "          [0., 0., 0.],\n",
              "          ...,\n",
              "          [0., 0., 0.],\n",
              "          [0., 0., 0.],\n",
              "          [0., 0., 0.]]],\n",
              "\n",
              "\n",
              "        [[[0., 0., 0.],\n",
              "          [0., 0., 0.],\n",
              "          [0., 0., 0.],\n",
              "          ...,\n",
              "          [0., 0., 0.],\n",
              "          [0., 0., 0.],\n",
              "          [0., 0., 0.]],\n",
              "\n",
              "         [[0., 0., 0.],\n",
              "          [0., 0., 0.],\n",
              "          [0., 0., 0.],\n",
              "          ...,\n",
              "          [0., 0., 0.],\n",
              "          [0., 0., 0.],\n",
              "          [0., 0., 0.]],\n",
              "\n",
              "         [[0., 0., 0.],\n",
              "          [0., 0., 0.],\n",
              "          [0., 0., 0.],\n",
              "          ...,\n",
              "          [0., 0., 0.],\n",
              "          [0., 0., 0.],\n",
              "          [0., 0., 0.]],\n",
              "\n",
              "         ...,\n",
              "\n",
              "         [[0., 0., 0.],\n",
              "          [0., 0., 0.],\n",
              "          [0., 0., 0.],\n",
              "          ...,\n",
              "          [0., 0., 0.],\n",
              "          [0., 0., 0.],\n",
              "          [0., 0., 0.]],\n",
              "\n",
              "         [[0., 0., 0.],\n",
              "          [0., 0., 0.],\n",
              "          [0., 0., 0.],\n",
              "          ...,\n",
              "          [0., 0., 0.],\n",
              "          [0., 0., 0.],\n",
              "          [0., 0., 0.]],\n",
              "\n",
              "         [[0., 0., 0.],\n",
              "          [0., 0., 0.],\n",
              "          [0., 0., 0.],\n",
              "          ...,\n",
              "          [0., 0., 0.],\n",
              "          [0., 0., 0.],\n",
              "          [0., 0., 0.]]],\n",
              "\n",
              "\n",
              "        [[[0., 0., 0.],\n",
              "          [0., 0., 0.],\n",
              "          [0., 0., 0.],\n",
              "          ...,\n",
              "          [0., 0., 0.],\n",
              "          [0., 0., 0.],\n",
              "          [0., 0., 0.]],\n",
              "\n",
              "         [[0., 0., 0.],\n",
              "          [0., 0., 0.],\n",
              "          [0., 0., 0.],\n",
              "          ...,\n",
              "          [0., 0., 0.],\n",
              "          [0., 0., 0.],\n",
              "          [0., 0., 0.]],\n",
              "\n",
              "         [[0., 0., 0.],\n",
              "          [0., 0., 0.],\n",
              "          [0., 0., 0.],\n",
              "          ...,\n",
              "          [0., 0., 0.],\n",
              "          [0., 0., 0.],\n",
              "          [0., 0., 0.]],\n",
              "\n",
              "         ...,\n",
              "\n",
              "         [[0., 0., 0.],\n",
              "          [0., 0., 0.],\n",
              "          [0., 0., 0.],\n",
              "          ...,\n",
              "          [0., 0., 0.],\n",
              "          [0., 0., 0.],\n",
              "          [0., 0., 0.]],\n",
              "\n",
              "         [[0., 0., 0.],\n",
              "          [0., 0., 0.],\n",
              "          [0., 0., 0.],\n",
              "          ...,\n",
              "          [0., 0., 0.],\n",
              "          [0., 0., 0.],\n",
              "          [0., 0., 0.]],\n",
              "\n",
              "         [[0., 0., 0.],\n",
              "          [0., 0., 0.],\n",
              "          [0., 0., 0.],\n",
              "          ...,\n",
              "          [0., 0., 0.],\n",
              "          [0., 0., 0.],\n",
              "          [0., 0., 0.]]]])"
            ]
          },
          "metadata": {},
          "execution_count": 175
        }
      ]
    },
    {
      "cell_type": "code",
      "source": [
        "images_tf = tf.zeros([32, 28, 28, 3])\n",
        "images_tf"
      ],
      "metadata": {
        "colab": {
          "base_uri": "https://localhost:8080/"
        },
        "id": "bxEyNJh0J_0I",
        "outputId": "a26c6ab7-2f0d-4e51-ed7c-5e642b5c7dca"
      },
      "execution_count": 176,
      "outputs": [
        {
          "output_type": "execute_result",
          "data": {
            "text/plain": [
              "<tf.Tensor: shape=(32, 28, 28, 3), dtype=float32, numpy=\n",
              "array([[[[0., 0., 0.],\n",
              "         [0., 0., 0.],\n",
              "         [0., 0., 0.],\n",
              "         ...,\n",
              "         [0., 0., 0.],\n",
              "         [0., 0., 0.],\n",
              "         [0., 0., 0.]],\n",
              "\n",
              "        [[0., 0., 0.],\n",
              "         [0., 0., 0.],\n",
              "         [0., 0., 0.],\n",
              "         ...,\n",
              "         [0., 0., 0.],\n",
              "         [0., 0., 0.],\n",
              "         [0., 0., 0.]],\n",
              "\n",
              "        [[0., 0., 0.],\n",
              "         [0., 0., 0.],\n",
              "         [0., 0., 0.],\n",
              "         ...,\n",
              "         [0., 0., 0.],\n",
              "         [0., 0., 0.],\n",
              "         [0., 0., 0.]],\n",
              "\n",
              "        ...,\n",
              "\n",
              "        [[0., 0., 0.],\n",
              "         [0., 0., 0.],\n",
              "         [0., 0., 0.],\n",
              "         ...,\n",
              "         [0., 0., 0.],\n",
              "         [0., 0., 0.],\n",
              "         [0., 0., 0.]],\n",
              "\n",
              "        [[0., 0., 0.],\n",
              "         [0., 0., 0.],\n",
              "         [0., 0., 0.],\n",
              "         ...,\n",
              "         [0., 0., 0.],\n",
              "         [0., 0., 0.],\n",
              "         [0., 0., 0.]],\n",
              "\n",
              "        [[0., 0., 0.],\n",
              "         [0., 0., 0.],\n",
              "         [0., 0., 0.],\n",
              "         ...,\n",
              "         [0., 0., 0.],\n",
              "         [0., 0., 0.],\n",
              "         [0., 0., 0.]]],\n",
              "\n",
              "\n",
              "       [[[0., 0., 0.],\n",
              "         [0., 0., 0.],\n",
              "         [0., 0., 0.],\n",
              "         ...,\n",
              "         [0., 0., 0.],\n",
              "         [0., 0., 0.],\n",
              "         [0., 0., 0.]],\n",
              "\n",
              "        [[0., 0., 0.],\n",
              "         [0., 0., 0.],\n",
              "         [0., 0., 0.],\n",
              "         ...,\n",
              "         [0., 0., 0.],\n",
              "         [0., 0., 0.],\n",
              "         [0., 0., 0.]],\n",
              "\n",
              "        [[0., 0., 0.],\n",
              "         [0., 0., 0.],\n",
              "         [0., 0., 0.],\n",
              "         ...,\n",
              "         [0., 0., 0.],\n",
              "         [0., 0., 0.],\n",
              "         [0., 0., 0.]],\n",
              "\n",
              "        ...,\n",
              "\n",
              "        [[0., 0., 0.],\n",
              "         [0., 0., 0.],\n",
              "         [0., 0., 0.],\n",
              "         ...,\n",
              "         [0., 0., 0.],\n",
              "         [0., 0., 0.],\n",
              "         [0., 0., 0.]],\n",
              "\n",
              "        [[0., 0., 0.],\n",
              "         [0., 0., 0.],\n",
              "         [0., 0., 0.],\n",
              "         ...,\n",
              "         [0., 0., 0.],\n",
              "         [0., 0., 0.],\n",
              "         [0., 0., 0.]],\n",
              "\n",
              "        [[0., 0., 0.],\n",
              "         [0., 0., 0.],\n",
              "         [0., 0., 0.],\n",
              "         ...,\n",
              "         [0., 0., 0.],\n",
              "         [0., 0., 0.],\n",
              "         [0., 0., 0.]]],\n",
              "\n",
              "\n",
              "       [[[0., 0., 0.],\n",
              "         [0., 0., 0.],\n",
              "         [0., 0., 0.],\n",
              "         ...,\n",
              "         [0., 0., 0.],\n",
              "         [0., 0., 0.],\n",
              "         [0., 0., 0.]],\n",
              "\n",
              "        [[0., 0., 0.],\n",
              "         [0., 0., 0.],\n",
              "         [0., 0., 0.],\n",
              "         ...,\n",
              "         [0., 0., 0.],\n",
              "         [0., 0., 0.],\n",
              "         [0., 0., 0.]],\n",
              "\n",
              "        [[0., 0., 0.],\n",
              "         [0., 0., 0.],\n",
              "         [0., 0., 0.],\n",
              "         ...,\n",
              "         [0., 0., 0.],\n",
              "         [0., 0., 0.],\n",
              "         [0., 0., 0.]],\n",
              "\n",
              "        ...,\n",
              "\n",
              "        [[0., 0., 0.],\n",
              "         [0., 0., 0.],\n",
              "         [0., 0., 0.],\n",
              "         ...,\n",
              "         [0., 0., 0.],\n",
              "         [0., 0., 0.],\n",
              "         [0., 0., 0.]],\n",
              "\n",
              "        [[0., 0., 0.],\n",
              "         [0., 0., 0.],\n",
              "         [0., 0., 0.],\n",
              "         ...,\n",
              "         [0., 0., 0.],\n",
              "         [0., 0., 0.],\n",
              "         [0., 0., 0.]],\n",
              "\n",
              "        [[0., 0., 0.],\n",
              "         [0., 0., 0.],\n",
              "         [0., 0., 0.],\n",
              "         ...,\n",
              "         [0., 0., 0.],\n",
              "         [0., 0., 0.],\n",
              "         [0., 0., 0.]]],\n",
              "\n",
              "\n",
              "       ...,\n",
              "\n",
              "\n",
              "       [[[0., 0., 0.],\n",
              "         [0., 0., 0.],\n",
              "         [0., 0., 0.],\n",
              "         ...,\n",
              "         [0., 0., 0.],\n",
              "         [0., 0., 0.],\n",
              "         [0., 0., 0.]],\n",
              "\n",
              "        [[0., 0., 0.],\n",
              "         [0., 0., 0.],\n",
              "         [0., 0., 0.],\n",
              "         ...,\n",
              "         [0., 0., 0.],\n",
              "         [0., 0., 0.],\n",
              "         [0., 0., 0.]],\n",
              "\n",
              "        [[0., 0., 0.],\n",
              "         [0., 0., 0.],\n",
              "         [0., 0., 0.],\n",
              "         ...,\n",
              "         [0., 0., 0.],\n",
              "         [0., 0., 0.],\n",
              "         [0., 0., 0.]],\n",
              "\n",
              "        ...,\n",
              "\n",
              "        [[0., 0., 0.],\n",
              "         [0., 0., 0.],\n",
              "         [0., 0., 0.],\n",
              "         ...,\n",
              "         [0., 0., 0.],\n",
              "         [0., 0., 0.],\n",
              "         [0., 0., 0.]],\n",
              "\n",
              "        [[0., 0., 0.],\n",
              "         [0., 0., 0.],\n",
              "         [0., 0., 0.],\n",
              "         ...,\n",
              "         [0., 0., 0.],\n",
              "         [0., 0., 0.],\n",
              "         [0., 0., 0.]],\n",
              "\n",
              "        [[0., 0., 0.],\n",
              "         [0., 0., 0.],\n",
              "         [0., 0., 0.],\n",
              "         ...,\n",
              "         [0., 0., 0.],\n",
              "         [0., 0., 0.],\n",
              "         [0., 0., 0.]]],\n",
              "\n",
              "\n",
              "       [[[0., 0., 0.],\n",
              "         [0., 0., 0.],\n",
              "         [0., 0., 0.],\n",
              "         ...,\n",
              "         [0., 0., 0.],\n",
              "         [0., 0., 0.],\n",
              "         [0., 0., 0.]],\n",
              "\n",
              "        [[0., 0., 0.],\n",
              "         [0., 0., 0.],\n",
              "         [0., 0., 0.],\n",
              "         ...,\n",
              "         [0., 0., 0.],\n",
              "         [0., 0., 0.],\n",
              "         [0., 0., 0.]],\n",
              "\n",
              "        [[0., 0., 0.],\n",
              "         [0., 0., 0.],\n",
              "         [0., 0., 0.],\n",
              "         ...,\n",
              "         [0., 0., 0.],\n",
              "         [0., 0., 0.],\n",
              "         [0., 0., 0.]],\n",
              "\n",
              "        ...,\n",
              "\n",
              "        [[0., 0., 0.],\n",
              "         [0., 0., 0.],\n",
              "         [0., 0., 0.],\n",
              "         ...,\n",
              "         [0., 0., 0.],\n",
              "         [0., 0., 0.],\n",
              "         [0., 0., 0.]],\n",
              "\n",
              "        [[0., 0., 0.],\n",
              "         [0., 0., 0.],\n",
              "         [0., 0., 0.],\n",
              "         ...,\n",
              "         [0., 0., 0.],\n",
              "         [0., 0., 0.],\n",
              "         [0., 0., 0.]],\n",
              "\n",
              "        [[0., 0., 0.],\n",
              "         [0., 0., 0.],\n",
              "         [0., 0., 0.],\n",
              "         ...,\n",
              "         [0., 0., 0.],\n",
              "         [0., 0., 0.],\n",
              "         [0., 0., 0.]]],\n",
              "\n",
              "\n",
              "       [[[0., 0., 0.],\n",
              "         [0., 0., 0.],\n",
              "         [0., 0., 0.],\n",
              "         ...,\n",
              "         [0., 0., 0.],\n",
              "         [0., 0., 0.],\n",
              "         [0., 0., 0.]],\n",
              "\n",
              "        [[0., 0., 0.],\n",
              "         [0., 0., 0.],\n",
              "         [0., 0., 0.],\n",
              "         ...,\n",
              "         [0., 0., 0.],\n",
              "         [0., 0., 0.],\n",
              "         [0., 0., 0.]],\n",
              "\n",
              "        [[0., 0., 0.],\n",
              "         [0., 0., 0.],\n",
              "         [0., 0., 0.],\n",
              "         ...,\n",
              "         [0., 0., 0.],\n",
              "         [0., 0., 0.],\n",
              "         [0., 0., 0.]],\n",
              "\n",
              "        ...,\n",
              "\n",
              "        [[0., 0., 0.],\n",
              "         [0., 0., 0.],\n",
              "         [0., 0., 0.],\n",
              "         ...,\n",
              "         [0., 0., 0.],\n",
              "         [0., 0., 0.],\n",
              "         [0., 0., 0.]],\n",
              "\n",
              "        [[0., 0., 0.],\n",
              "         [0., 0., 0.],\n",
              "         [0., 0., 0.],\n",
              "         ...,\n",
              "         [0., 0., 0.],\n",
              "         [0., 0., 0.],\n",
              "         [0., 0., 0.]],\n",
              "\n",
              "        [[0., 0., 0.],\n",
              "         [0., 0., 0.],\n",
              "         [0., 0., 0.],\n",
              "         ...,\n",
              "         [0., 0., 0.],\n",
              "         [0., 0., 0.],\n",
              "         [0., 0., 0.]]]], dtype=float32)>"
            ]
          },
          "metadata": {},
          "execution_count": 176
        }
      ]
    },
    {
      "cell_type": "markdown",
      "source": [
        "**Tensor Transposition**"
      ],
      "metadata": {
        "id": "U4wJwTTeNTR5"
      }
    },
    {
      "cell_type": "code",
      "source": [
        "X"
      ],
      "metadata": {
        "colab": {
          "base_uri": "https://localhost:8080/"
        },
        "id": "-EmdoRZ1KGXv",
        "outputId": "2a60c29b-ca73-4224-cc92-80eb5f38e9a9"
      },
      "execution_count": 177,
      "outputs": [
        {
          "output_type": "execute_result",
          "data": {
            "text/plain": [
              "array([[11, 12, 13],\n",
              "       [21, 22, 23]])"
            ]
          },
          "metadata": {},
          "execution_count": 177
        }
      ]
    },
    {
      "cell_type": "code",
      "source": [
        "X.T"
      ],
      "metadata": {
        "colab": {
          "base_uri": "https://localhost:8080/"
        },
        "id": "xMEiQJ1FNbGm",
        "outputId": "002be2c1-893a-40cc-e50e-2b9866cb539c"
      },
      "execution_count": 178,
      "outputs": [
        {
          "output_type": "execute_result",
          "data": {
            "text/plain": [
              "array([[11, 21],\n",
              "       [12, 22],\n",
              "       [13, 23]])"
            ]
          },
          "metadata": {},
          "execution_count": 178
        }
      ]
    },
    {
      "cell_type": "code",
      "source": [
        "tf.transpose(X_tf)"
      ],
      "metadata": {
        "colab": {
          "base_uri": "https://localhost:8080/"
        },
        "id": "dKVQJPB1NcmM",
        "outputId": "a2ae1d83-cc3f-4ea3-e1c9-5a811e7d9343"
      },
      "execution_count": 179,
      "outputs": [
        {
          "output_type": "execute_result",
          "data": {
            "text/plain": [
              "<tf.Tensor: shape=(3, 2), dtype=int32, numpy=\n",
              "array([[11, 21],\n",
              "       [12, 22],\n",
              "       [13, 23]], dtype=int32)>"
            ]
          },
          "metadata": {},
          "execution_count": 179
        }
      ]
    },
    {
      "cell_type": "code",
      "source": [
        "X_pt.T"
      ],
      "metadata": {
        "colab": {
          "base_uri": "https://localhost:8080/"
        },
        "id": "fkhDhdlJN9-2",
        "outputId": "44cd6a13-8865-434d-fa36-efb21ab3665a"
      },
      "execution_count": 180,
      "outputs": [
        {
          "output_type": "execute_result",
          "data": {
            "text/plain": [
              "tensor([[11, 21],\n",
              "        [12, 22],\n",
              "        [13, 23]])"
            ]
          },
          "metadata": {},
          "execution_count": 180
        }
      ]
    },
    {
      "cell_type": "code",
      "source": [
        "X_pt.H"
      ],
      "metadata": {
        "colab": {
          "base_uri": "https://localhost:8080/"
        },
        "id": "tUY8MDptOBCB",
        "outputId": "42c0bde7-16aa-4051-ea05-625130a99abb"
      },
      "execution_count": 181,
      "outputs": [
        {
          "output_type": "execute_result",
          "data": {
            "text/plain": [
              "tensor([[11, 21],\n",
              "        [12, 22],\n",
              "        [13, 23]])"
            ]
          },
          "metadata": {},
          "execution_count": 181
        }
      ]
    },
    {
      "cell_type": "code",
      "source": [
        "Y = X + 2\n",
        "Y"
      ],
      "metadata": {
        "colab": {
          "base_uri": "https://localhost:8080/"
        },
        "id": "BK8ZngxgOL8Y",
        "outputId": "5d07af2f-b549-4cb5-cb7a-0912ff967254"
      },
      "execution_count": 182,
      "outputs": [
        {
          "output_type": "execute_result",
          "data": {
            "text/plain": [
              "array([[13, 14, 15],\n",
              "       [23, 24, 25]])"
            ]
          },
          "metadata": {},
          "execution_count": 182
        }
      ]
    },
    {
      "cell_type": "code",
      "source": [
        "Z = X*2\n",
        "Z"
      ],
      "metadata": {
        "colab": {
          "base_uri": "https://localhost:8080/"
        },
        "id": "HNl-LHpdOiIH",
        "outputId": "af01a6e6-bdf9-4690-8c1b-3480698cc795"
      },
      "execution_count": 183,
      "outputs": [
        {
          "output_type": "execute_result",
          "data": {
            "text/plain": [
              "array([[22, 24, 26],\n",
              "       [42, 44, 46]])"
            ]
          },
          "metadata": {},
          "execution_count": 183
        }
      ]
    },
    {
      "cell_type": "code",
      "source": [
        "X + Y"
      ],
      "metadata": {
        "colab": {
          "base_uri": "https://localhost:8080/"
        },
        "id": "MJnHdKy_Olmw",
        "outputId": "4a78a666-311b-4f33-b35e-4fd5ade4b80b"
      },
      "execution_count": 184,
      "outputs": [
        {
          "output_type": "execute_result",
          "data": {
            "text/plain": [
              "array([[24, 26, 28],\n",
              "       [44, 46, 48]])"
            ]
          },
          "metadata": {},
          "execution_count": 184
        }
      ]
    },
    {
      "cell_type": "code",
      "source": [
        " X * Y"
      ],
      "metadata": {
        "colab": {
          "base_uri": "https://localhost:8080/"
        },
        "id": "_ewYQCHoPOFa",
        "outputId": "67fda4cf-fd51-4d29-b7f4-6f1e8547544d"
      },
      "execution_count": 185,
      "outputs": [
        {
          "output_type": "execute_result",
          "data": {
            "text/plain": [
              "array([[143, 168, 195],\n",
              "       [483, 528, 575]])"
            ]
          },
          "metadata": {},
          "execution_count": 185
        }
      ]
    },
    {
      "cell_type": "markdown",
      "source": [
        "above operations are same in PyTorch and Tensor flow"
      ],
      "metadata": {
        "id": "a2jvpAfNPhbE"
      }
    },
    {
      "cell_type": "code",
      "source": [
        "X.sum() #numpy"
      ],
      "metadata": {
        "colab": {
          "base_uri": "https://localhost:8080/"
        },
        "id": "5zS3SiEjPYns",
        "outputId": "1ea43c4d-8cae-4ff4-a743-32c90c48b121"
      },
      "execution_count": 186,
      "outputs": [
        {
          "output_type": "execute_result",
          "data": {
            "text/plain": [
              "102"
            ]
          },
          "metadata": {},
          "execution_count": 186
        }
      ]
    },
    {
      "cell_type": "code",
      "source": [
        "X_pt.sum() #pytorch"
      ],
      "metadata": {
        "colab": {
          "base_uri": "https://localhost:8080/"
        },
        "id": "KGLQYAWpPupY",
        "outputId": "06a2f23a-7553-44af-cc90-e3995e85697d"
      },
      "execution_count": 187,
      "outputs": [
        {
          "output_type": "execute_result",
          "data": {
            "text/plain": [
              "tensor(102)"
            ]
          },
          "metadata": {},
          "execution_count": 187
        }
      ]
    },
    {
      "cell_type": "code",
      "source": [
        "torch.sum(X_pt)"
      ],
      "metadata": {
        "colab": {
          "base_uri": "https://localhost:8080/"
        },
        "id": "X9ak35bGP30z",
        "outputId": "fd6d1765-20ae-4352-dd25-a5f7bee6bfb4"
      },
      "execution_count": 188,
      "outputs": [
        {
          "output_type": "execute_result",
          "data": {
            "text/plain": [
              "tensor(102)"
            ]
          },
          "metadata": {},
          "execution_count": 188
        }
      ]
    },
    {
      "cell_type": "code",
      "source": [
        "tf.reduce_sum(X_tf) #tensorflow"
      ],
      "metadata": {
        "colab": {
          "base_uri": "https://localhost:8080/"
        },
        "id": "kIQEYZeQP92O",
        "outputId": "f73376b0-944f-4e2c-82c5-c638959762dc"
      },
      "execution_count": 189,
      "outputs": [
        {
          "output_type": "execute_result",
          "data": {
            "text/plain": [
              "<tf.Tensor: shape=(), dtype=int32, numpy=102>"
            ]
          },
          "metadata": {},
          "execution_count": 189
        }
      ]
    },
    {
      "cell_type": "code",
      "source": [
        "X.sum(axis = 0)\n"
      ],
      "metadata": {
        "colab": {
          "base_uri": "https://localhost:8080/"
        },
        "id": "d5d-AqEfQRem",
        "outputId": "18437f65-0553-4963-f607-9fb9818108d1"
      },
      "execution_count": 190,
      "outputs": [
        {
          "output_type": "execute_result",
          "data": {
            "text/plain": [
              "array([32, 34, 36])"
            ]
          },
          "metadata": {},
          "execution_count": 190
        }
      ]
    },
    {
      "cell_type": "code",
      "source": [
        "X"
      ],
      "metadata": {
        "colab": {
          "base_uri": "https://localhost:8080/"
        },
        "id": "WIDBy4yyQYpM",
        "outputId": "4e53c8b2-2c73-4582-f84b-85096220a882"
      },
      "execution_count": 191,
      "outputs": [
        {
          "output_type": "execute_result",
          "data": {
            "text/plain": [
              "array([[11, 12, 13],\n",
              "       [21, 22, 23]])"
            ]
          },
          "metadata": {},
          "execution_count": 191
        }
      ]
    },
    {
      "cell_type": "code",
      "source": [
        "torch.sum(X_pt, 0)"
      ],
      "metadata": {
        "colab": {
          "base_uri": "https://localhost:8080/"
        },
        "id": "Xva1y6wXQeHZ",
        "outputId": "4d8a14b6-5a62-41be-d1c3-1751ccae2e18"
      },
      "execution_count": 192,
      "outputs": [
        {
          "output_type": "execute_result",
          "data": {
            "text/plain": [
              "tensor([32, 34, 36])"
            ]
          },
          "metadata": {},
          "execution_count": 192
        }
      ]
    },
    {
      "cell_type": "code",
      "source": [
        "tf.reduce_sum(X_tf, 0)"
      ],
      "metadata": {
        "colab": {
          "base_uri": "https://localhost:8080/"
        },
        "id": "gvy9-MjzQiwj",
        "outputId": "eade794c-3b4d-4474-a175-becd7e872d99"
      },
      "execution_count": 193,
      "outputs": [
        {
          "output_type": "execute_result",
          "data": {
            "text/plain": [
              "<tf.Tensor: shape=(3,), dtype=int32, numpy=array([32, 34, 36], dtype=int32)>"
            ]
          },
          "metadata": {},
          "execution_count": 193
        }
      ]
    },
    {
      "cell_type": "code",
      "source": [
        "XT_tf = tf.transpose(X_tf)\n",
        "XT_tf"
      ],
      "metadata": {
        "colab": {
          "base_uri": "https://localhost:8080/"
        },
        "id": "_8Eu9vOOQmd7",
        "outputId": "cde32f09-6416-4ff6-bedc-e9825f20aefe"
      },
      "execution_count": 194,
      "outputs": [
        {
          "output_type": "execute_result",
          "data": {
            "text/plain": [
              "<tf.Tensor: shape=(3, 2), dtype=int32, numpy=\n",
              "array([[11, 21],\n",
              "       [12, 22],\n",
              "       [13, 23]], dtype=int32)>"
            ]
          },
          "metadata": {},
          "execution_count": 194
        }
      ]
    },
    {
      "cell_type": "code",
      "source": [
        "x_1 = np.array([1, 2, 3, 4, 5])\n",
        "x_1"
      ],
      "metadata": {
        "colab": {
          "base_uri": "https://localhost:8080/"
        },
        "id": "KxxGs5QlQ7TU",
        "outputId": "02624e71-a81f-42bb-b833-4b087db5e8a2"
      },
      "execution_count": 195,
      "outputs": [
        {
          "output_type": "execute_result",
          "data": {
            "text/plain": [
              "array([1, 2, 3, 4, 5])"
            ]
          },
          "metadata": {},
          "execution_count": 195
        }
      ]
    },
    {
      "cell_type": "code",
      "source": [
        "x"
      ],
      "metadata": {
        "colab": {
          "base_uri": "https://localhost:8080/"
        },
        "id": "J4tVevWQUBhv",
        "outputId": "db1486d3-d142-4b9b-9c42-fd7a8cd75196"
      },
      "execution_count": 196,
      "outputs": [
        {
          "output_type": "execute_result",
          "data": {
            "text/plain": [
              "array([1, 2, 3, 5, 9])"
            ]
          },
          "metadata": {},
          "execution_count": 196
        }
      ]
    },
    {
      "cell_type": "code",
      "source": [
        "np.dot(x, x_1)"
      ],
      "metadata": {
        "colab": {
          "base_uri": "https://localhost:8080/"
        },
        "id": "Uh7wyDRPUFhK",
        "outputId": "b4f70b46-f076-49a2-8c72-f47a8e249169"
      },
      "execution_count": 197,
      "outputs": [
        {
          "output_type": "execute_result",
          "data": {
            "text/plain": [
              "79"
            ]
          },
          "metadata": {},
          "execution_count": 197
        }
      ]
    },
    {
      "cell_type": "code",
      "source": [
        "torch.dot(torch.tensor([1, 2, 3.]), torch.tensor([1, 2, 3.]))"
      ],
      "metadata": {
        "colab": {
          "base_uri": "https://localhost:8080/"
        },
        "id": "0i4RPFGWUGjv",
        "outputId": "4f0de278-b543-4b72-87ad-7939387cda05"
      },
      "execution_count": 198,
      "outputs": [
        {
          "output_type": "execute_result",
          "data": {
            "text/plain": [
              "tensor(14.)"
            ]
          },
          "metadata": {},
          "execution_count": 198
        }
      ]
    },
    {
      "cell_type": "code",
      "source": [
        "x_tf"
      ],
      "metadata": {
        "colab": {
          "base_uri": "https://localhost:8080/"
        },
        "id": "evFnsYr6bgny",
        "outputId": "9166b6f8-3214-44ec-e084-95c38c0222c7"
      },
      "execution_count": 199,
      "outputs": [
        {
          "output_type": "execute_result",
          "data": {
            "text/plain": [
              "<tf.Variable 'Variable:0' shape=() dtype=int16, numpy=25>"
            ]
          },
          "metadata": {},
          "execution_count": 199
        }
      ]
    },
    {
      "cell_type": "code",
      "source": [
        "y_tf"
      ],
      "metadata": {
        "colab": {
          "base_uri": "https://localhost:8080/"
        },
        "id": "GiecC2vVbxe7",
        "outputId": "7ff2aef7-64cc-4313-c30d-83ce5f5c7ca6"
      },
      "execution_count": 200,
      "outputs": [
        {
          "output_type": "execute_result",
          "data": {
            "text/plain": [
              "<tf.Variable 'Variable:0' shape=() dtype=int16, numpy=3>"
            ]
          },
          "metadata": {},
          "execution_count": 200
        }
      ]
    },
    {
      "cell_type": "code",
      "source": [
        "tf.reduce_sum(tf.multiply(x_tf, y_tf))"
      ],
      "metadata": {
        "colab": {
          "base_uri": "https://localhost:8080/"
        },
        "id": "9Vbxu7Pubz3L",
        "outputId": "957a53e4-e87e-4d13-9c97-9107936bf833"
      },
      "execution_count": 201,
      "outputs": [
        {
          "output_type": "execute_result",
          "data": {
            "text/plain": [
              "<tf.Tensor: shape=(), dtype=int16, numpy=75>"
            ]
          },
          "metadata": {},
          "execution_count": 201
        }
      ]
    },
    {
      "cell_type": "code",
      "source": [
        "tf.reduce_sum(tf.multiply(X_tf, X_tf))"
      ],
      "metadata": {
        "colab": {
          "base_uri": "https://localhost:8080/"
        },
        "id": "yUH9rrxDb05-",
        "outputId": "16e5336a-51b2-40ae-911f-18091df7d399"
      },
      "execution_count": 202,
      "outputs": [
        {
          "output_type": "execute_result",
          "data": {
            "text/plain": [
              "<tf.Tensor: shape=(), dtype=int32, numpy=1888>"
            ]
          },
          "metadata": {},
          "execution_count": 202
        }
      ]
    },
    {
      "cell_type": "code",
      "source": [
        "X_tf"
      ],
      "metadata": {
        "id": "xF4n-z0Kb6-j",
        "outputId": "992ac3d1-1f82-4efc-e26d-a176f7f6bcf8",
        "colab": {
          "base_uri": "https://localhost:8080/"
        }
      },
      "execution_count": 203,
      "outputs": [
        {
          "output_type": "execute_result",
          "data": {
            "text/plain": [
              "<tf.Variable 'Variable:0' shape=(2, 3) dtype=int32, numpy=\n",
              "array([[11, 12, 13],\n",
              "       [21, 22, 23]], dtype=int32)>"
            ]
          },
          "metadata": {},
          "execution_count": 203
        }
      ]
    },
    {
      "cell_type": "code",
      "source": [
        "X"
      ],
      "metadata": {
        "colab": {
          "base_uri": "https://localhost:8080/"
        },
        "id": "x8LsXPybOO2e",
        "outputId": "59391e5c-c9b3-4b77-9c55-728a12e39fee"
      },
      "execution_count": 204,
      "outputs": [
        {
          "output_type": "execute_result",
          "data": {
            "text/plain": [
              "array([[11, 12, 13],\n",
              "       [21, 22, 23]])"
            ]
          },
          "metadata": {},
          "execution_count": 204
        }
      ]
    },
    {
      "cell_type": "code",
      "source": [],
      "metadata": {
        "id": "WHXDtYKIOSGt"
      },
      "execution_count": 204,
      "outputs": []
    },
    {
      "cell_type": "code",
      "source": [
        "X_MatMul = [[10, 20], [30, 40]]\n",
        "X_MatMul"
      ],
      "metadata": {
        "colab": {
          "base_uri": "https://localhost:8080/"
        },
        "id": "LwoPr36NOU5i",
        "outputId": "71b44e70-d81e-4957-f81d-fbebe44d1f5c"
      },
      "execution_count": 205,
      "outputs": [
        {
          "output_type": "execute_result",
          "data": {
            "text/plain": [
              "[[10, 20], [30, 40]]"
            ]
          },
          "metadata": {},
          "execution_count": 205
        }
      ]
    },
    {
      "cell_type": "code",
      "source": [
        "Y_MatMul = [[1, 2], [3, 4]]\n",
        "Y_MatMul"
      ],
      "metadata": {
        "colab": {
          "base_uri": "https://localhost:8080/"
        },
        "id": "lkFqhzr0Ouhp",
        "outputId": "47be2731-9f25-4c60-93eb-a4e23a4d80a5"
      },
      "execution_count": 206,
      "outputs": [
        {
          "output_type": "execute_result",
          "data": {
            "text/plain": [
              "[[1, 2], [3, 4]]"
            ]
          },
          "metadata": {},
          "execution_count": 206
        }
      ]
    },
    {
      "cell_type": "markdown",
      "source": [
        ",        \n",
        "\n",
        "1.   [0, 0] = 10 X 1 + 20 X 3,        [0, 1] = 10 X 2 + 20 X 4\n",
        "2.   [1, 0] = 30 X 1 + 40 X 3,        [1, 1] = 30 X 2 + 40 X 4"
      ],
      "metadata": {
        "id": "WJ_5qbrXPCyR"
      }
    },
    {
      "cell_type": "code",
      "source": [
        "np.dot(X_MatMul, Y_MatMul) # torch.matmul(X_MatMul, Y_MatMul), tf.linalg.matvec(X_MatMul, Y_MatMul)"
      ],
      "metadata": {
        "colab": {
          "base_uri": "https://localhost:8080/"
        },
        "id": "Aayq0YdmOzHB",
        "outputId": "4af550df-8014-4243-b9aa-0f50c28773be"
      },
      "execution_count": 207,
      "outputs": [
        {
          "output_type": "execute_result",
          "data": {
            "text/plain": [
              "array([[ 70, 100],\n",
              "       [150, 220]])"
            ]
          },
          "metadata": {},
          "execution_count": 207
        }
      ]
    },
    {
      "cell_type": "code",
      "source": [
        "X_t_matmul = torch.from_numpy(X)"
      ],
      "metadata": {
        "colab": {
          "base_uri": "https://localhost:8080/"
        },
        "id": "6BpJNytxQjW7",
        "outputId": "9adef6f3-a3a0-4962-9ef5-b3b510da654b"
      },
      "execution_count": 208,
      "outputs": [
        {
          "output_type": "execute_result",
          "data": {
            "text/plain": [
              "tensor([[11, 12, 13],\n",
              "        [21, 22, 23]])"
            ]
          },
          "metadata": {},
          "execution_count": 208
        }
      ]
    },
    {
      "cell_type": "code",
      "source": [
        "Y_tf_matmul = tf.convert_to_tensor(tf_array, dtype=tf.int32)\n",
        "Y_tf_matmul"
      ],
      "metadata": {
        "colab": {
          "base_uri": "https://localhost:8080/"
        },
        "id": "Zix_GFD-SisH",
        "outputId": "ffc869b9-3f3c-4480-93a3-aa24886c3a27"
      },
      "execution_count": 211,
      "outputs": [
        {
          "output_type": "execute_result",
          "data": {
            "text/plain": [
              "<tf.Tensor: shape=(8,), dtype=int32, numpy=array([1, 2, 3, 4, 5, 6, 7, 8], dtype=int32)>"
            ]
          },
          "metadata": {},
          "execution_count": 211
        }
      ]
    },
    {
      "cell_type": "code",
      "source": [
        "XT_tf"
      ],
      "metadata": {
        "colab": {
          "base_uri": "https://localhost:8080/"
        },
        "id": "qZiFF3WzSmJd",
        "outputId": "f5da471d-90f8-4fb4-b5c1-2ba0c4febe29"
      },
      "execution_count": 218,
      "outputs": [
        {
          "output_type": "execute_result",
          "data": {
            "text/plain": [
              "<tf.Tensor: shape=(3, 2), dtype=int32, numpy=\n",
              "array([[11, 21],\n",
              "       [12, 22],\n",
              "       [13, 23]], dtype=int32)>"
            ]
          },
          "metadata": {},
          "execution_count": 218
        }
      ]
    },
    {
      "cell_type": "markdown",
      "source": [
        "![image.png](data:image/png;base64,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)"
      ],
      "metadata": {
        "id": "NiIC99yyYWZX"
      }
    },
    {
      "cell_type": "code",
      "source": [],
      "metadata": {
        "id": "0JC1fFYDYhdN"
      },
      "execution_count": null,
      "outputs": []
    }
  ]
}