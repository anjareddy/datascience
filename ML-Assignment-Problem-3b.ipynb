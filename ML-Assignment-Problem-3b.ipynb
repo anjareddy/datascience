{
 "cells": [
  {
   "cell_type": "code",
   "execution_count": 4,
   "metadata": {},
   "outputs": [
    {
     "name": "stdout",
     "output_type": "stream",
     "text": [
      "Matrix:\n",
      "2\t1\t\n",
      "1\t5\t\n",
      "4\t1\t\n",
      "\n",
      "Frobenius Nome of matrix is: 6.928203230275509\n"
     ]
    }
   ],
   "source": [
    "import numpy as np\n",
    "print(\"Matrix:\")\n",
    "matrix_m = [[2, 1], [1, 5], [4, 1]]\n",
    "for r in matrix_m:\n",
    "    for c in r:\n",
    "        print(c,end = \"\\t\")\n",
    "    print()\n",
    "\n",
    "print()\n",
    "sum_of_squares = 0\n",
    "for r in matrix_m:\n",
    "    for c in r:\n",
    "        sum_of_squares = sum_of_squares + (c*c)\n",
    "\n",
    "print(\"Frobenius Norm of matrix is:\", np.sqrt(sum_of_squares))\n",
    "\n"
   ]
  }
 ],
 "metadata": {
  "kernelspec": {
   "display_name": "base",
   "language": "python",
   "name": "python3"
  },
  "language_info": {
   "codemirror_mode": {
    "name": "ipython",
    "version": 3
   },
   "file_extension": ".py",
   "mimetype": "text/x-python",
   "name": "python",
   "nbconvert_exporter": "python",
   "pygments_lexer": "ipython3",
   "version": "3.9.13"
  },
  "orig_nbformat": 4,
  "vscode": {
   "interpreter": {
    "hash": "ea73cac4b45078a16ea2b3b06cd5d7bd81cff6bcb103e09ec3532b9aecd28a18"
   }
  }
 },
 "nbformat": 4,
 "nbformat_minor": 2
}
